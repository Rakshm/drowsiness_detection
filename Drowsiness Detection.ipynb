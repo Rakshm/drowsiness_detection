{
 "cells": [
  {
   "cell_type": "code",
   "execution_count": 7,
   "id": "9af7d225",
   "metadata": {},
   "outputs": [],
   "source": [
    "from imutils import face_utils\n",
    "import dlib\n",
    "import cv2\n",
    "from pygame import mixer"
   ]
  },
  {
   "cell_type": "code",
   "execution_count": 10,
   "id": "94b0082a",
   "metadata": {},
   "outputs": [],
   "source": [
    "thres = 6\n",
    "mixer.init()\n",
    "sound = mixer.Sound('D:/rgpv V sem/EOI/alarm.wav')\n",
    "dlist = []\n",
    "detector = dlib.get_frontal_face_detector()\n",
    "predictor = dlib.shape_predictor('D:/rgpv V sem/EOI/shape_predictor_68_face_landmarks.dat')\n",
    "cap = cv2.VideoCapture(0)\n",
    "def dist(a,b):\n",
    "    x1,y1 = a\n",
    "    x2,y2 = b\n",
    "    return ((x1-x2)**2 + (y1-y2)**2)**0.5\n",
    " \n",
    "while True:\n",
    "    # Getting out image by webcam \n",
    "    _, image = cap.read()\n",
    "    # Converting the image to gray scale\n",
    "    gray = cv2.cvtColor(image, cv2.COLOR_BGR2GRAY)\n",
    "        \n",
    "    # Get faces into webcam's image\n",
    "    rects = detector(gray, 0)\n",
    "    \n",
    "    # For each detected face, find the landmark.\n",
    "    for (i, rect) in enumerate(rects):\n",
    "        # Make the prediction and transfom it to numpy array\n",
    "        shape = predictor(gray, rect)\n",
    "        shape = face_utils.shape_to_np(shape)\n",
    "    \n",
    "        # Draw on our image, all the finded cordinate points (x,y) \n",
    "        for (x, y) in shape:\n",
    "            cv2.circle(image, (x, y), 2, (0, 255, 0), -1)\n",
    "        \n",
    "        le_38 = shape[37]\n",
    "        le_39 = shape[38]\n",
    "        le_41 = shape[40]\n",
    "        le_42 = shape[41]\n",
    "        re_44 = shape[43]\n",
    "        re_45 = shape[44]\n",
    "        re_47 = shape[46]\n",
    "        re_48 = shape[47]\n",
    "        \n",
    "        dlist.append((dist(le_38,le_42)+dist(le_39,le_41)+dist(re_44,re_48)+dist(re_45,re_47))/4<thres)\n",
    "        if len(dlist)>10:dlist.pop(0)\n",
    "        # Drowsiness detected\n",
    "        if sum(dlist)>=4:\n",
    "            try:\n",
    "                sound.play()\n",
    "            except:\n",
    "                pass\n",
    "        else:\n",
    "            try:\n",
    "                sound.stop()\n",
    "            except:\n",
    "                pass\n",
    "        \n",
    "    # Show the image\n",
    "    cv2.imshow(\"Output\", image)\n",
    "    \n",
    "    if cv2.waitKey(5) & 0xFF == 27:\n",
    "        break\n",
    "cv2.destroyAllWindows()\n",
    "cap.release()"
   ]
  },
  {
   "cell_type": "code",
   "execution_count": null,
   "id": "4e4f45d4",
   "metadata": {},
   "outputs": [],
   "source": []
  },
  {
   "cell_type": "code",
   "execution_count": null,
   "id": "560ee468",
   "metadata": {},
   "outputs": [],
   "source": []
  },
  {
   "cell_type": "code",
   "execution_count": null,
   "id": "c6c71fac",
   "metadata": {},
   "outputs": [],
   "source": []
  },
  {
   "cell_type": "code",
   "execution_count": null,
   "id": "47036b66",
   "metadata": {},
   "outputs": [],
   "source": []
  }
 ],
 "metadata": {
  "kernelspec": {
   "display_name": "Python 3 (ipykernel)",
   "language": "python",
   "name": "python3"
  },
  "language_info": {
   "codemirror_mode": {
    "name": "ipython",
    "version": 3
   },
   "file_extension": ".py",
   "mimetype": "text/x-python",
   "name": "python",
   "nbconvert_exporter": "python",
   "pygments_lexer": "ipython3",
   "version": "3.9.13"
  }
 },
 "nbformat": 4,
 "nbformat_minor": 5
}
